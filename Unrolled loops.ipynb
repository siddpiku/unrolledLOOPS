{
 "cells": [
  {
   "cell_type": "code",
   "execution_count": 325,
   "metadata": {},
   "outputs": [],
   "source": [
    "import numpy as np\n",
    "import matplotlib.pyplot as plt\n",
    "import torch\n",
    "import torch.optim as optim"
   ]
  },
  {
   "cell_type": "markdown",
   "metadata": {},
   "source": [
    "## SETUP 1 - MODEL FREE learning"
   ]
  },
  {
   "cell_type": "code",
   "execution_count": 368,
   "metadata": {},
   "outputs": [
    {
     "name": "stderr",
     "output_type": "stream",
     "text": [
      "C:\\Users\\siddp\\Anaconda3\\lib\\site-packages\\ipykernel_launcher.py:29: UserWarning: To copy construct from a tensor, it is recommended to use sourceTensor.clone().detach() or sourceTensor.clone().detach().requires_grad_(True), rather than torch.tensor(sourceTensor).\n"
     ]
    },
    {
     "name": "stdout",
     "output_type": "stream",
     "text": [
      "tensor(7.7605)\n"
     ]
    },
    {
     "data": {
      "image/png": "[encoded data removed]",
      "text/plain": [
       "<Figure size 432x288 with 1 Axes>"
      ]
     },
     "metadata": {
      "needs_background": "light"
     },
     "output_type": "display_data"
    },
    {
     "name": "stdout",
     "output_type": "stream",
     "text": [
      "4.431509017944336\n"
     ]
    }
   ],
   "source": [
    "d = 100 # dimension of data points x\n",
    "n = 5 # number of data points\n",
    "ntest = 10000\n",
    "m = 30 # size of measurements b\n",
    "noise = 0\n",
    "X = np.random.uniform(-1,1,size = (n,d))\n",
    "A = np.random.uniform(-1,1,(m,d))\n",
    "B = np.matmul(A,X.T) \n",
    "B += noise*np.random.uniform(-1,1,size = B.shape)\n",
    "\n",
    "X = torch.tensor(X)\n",
    "A = torch.tensor(A)\n",
    "B = torch.tensor(B)\n",
    "\n",
    "C = torch.ones((d,m),requires_grad = True)\n",
    "\n",
    "optimizer = optim.SGD([C], lr = 0.01, momentum = 0.9)\n",
    "\n",
    "epochs = 10000\n",
    "l = []\n",
    "for i in range(epochs):\n",
    "    optimizer.zero_grad()\n",
    "    loss = torch.norm(C.matmul(B.float()).transpose(0,1) - X.float())\n",
    "    loss.backward()\n",
    "    optimizer.step()\n",
    "    l.append(loss.item())\n",
    "def test(C):\n",
    "    Xtest = torch.tensor(np.random.uniform(-1,1,size = (ntest,d)))\n",
    "    Btest = torch.tensor(np.matmul(A,Xtest.transpose(0,1)))\n",
    "    return torch.norm(C.matmul(Btest.float()).transpose(0,1)-Xtest.float())/ntest\n",
    "print(test(C.detach()))\n",
    "plt.plot(l)\n",
    "plt.show()\n",
    "print(l[-1])"
   ]
  },
  {
   "cell_type": "markdown",
   "metadata": {},
   "source": [
    "## SETUP 2 - MODEL BASED LEARNING with step-size learning"
   ]
  },
  {
   "cell_type": "code",
   "execution_count": 205,
   "metadata": {},
   "outputs": [
    {
     "name": "stderr",
     "output_type": "stream",
     "text": [
      "C:\\Users\\siddp\\Anaconda3\\lib\\site-packages\\ipykernel_launcher.py:19: UserWarning: To copy construct from a tensor, it is recommended to use sourceTensor.clone().detach() or sourceTensor.clone().detach().requires_grad_(True), rather than torch.tensor(sourceTensor).\n"
     ]
    },
    {
     "name": "stdout",
     "output_type": "stream",
     "text": [
      "tensor(inf)\n"
     ]
    },
    {
     "data": {
      "image/png": "[encoded data removed]",
      "text/plain": [
       "<Figure size 432x288 with 1 Axes>"
      ]
     },
     "metadata": {
      "needs_background": "light"
     },
     "output_type": "display_data"
    }
   ],
   "source": [
    "C = torch.ones((d,d),requires_grad = True)\n",
    "eta = torch.tensor(1.0,requires_grad = True)\n",
    "optimizer = optim.SGD([C,eta], lr = 0.01, momentum = 0.9)\n",
    "\n",
    "epochs = 1000\n",
    "l = []\n",
    "for i in range(epochs):\n",
    "    optimizer.zero_grad()\n",
    "    \n",
    "    #eta = 0.1\n",
    "    temp = eta*A.transpose(0,1).matmul(B).float()\n",
    "    temp1 = 2*torch.eye(d) - eta*A.transpose(0,1).matmul(A).float() - eta*C\n",
    "    loss = torch.norm(temp1.matmul(temp) - X.transpose(0,1).float())\n",
    "    loss.backward()\n",
    "    optimizer.step()\n",
    "    l.append(loss.item())\n",
    "def test(C,eta):\n",
    "    Xtest = torch.tensor(np.random.uniform(-1,1,size = (ntest,d)))\n",
    "    Btest = torch.tensor(np.matmul(A,Xtest.transpose(0,1)))\n",
    "    #eta = 0.1\n",
    "    temp = eta*A.transpose(0,1).matmul(Btest).float()\n",
    "    temp1 = 2*torch.eye(d) - eta*A.transpose(0,1).matmul(A).float() - eta*C\n",
    "    return torch.norm(temp1.matmul(temp) - Xtest.transpose(0,1).float())/ntest\n",
    "\n",
    "print(test(C.detach(),eta.detach()))\n",
    "plt.plot(l)\n",
    "plt.show()"
   ]
  },
  {
   "cell_type": "markdown",
   "metadata": {},
   "source": [
    "## MODEL BASED LEARNING NOT LEARNING STEP-SIZE"
   ]
  },
  {
   "cell_type": "code",
   "execution_count": 369,
   "metadata": {},
   "outputs": [
    {
     "name": "stderr",
     "output_type": "stream",
     "text": [
      "C:\\Users\\siddp\\Anaconda3\\lib\\site-packages\\ipykernel_launcher.py:18: UserWarning: To copy construct from a tensor, it is recommended to use sourceTensor.clone().detach() or sourceTensor.clone().detach().requires_grad_(True), rather than torch.tensor(sourceTensor).\n"
     ]
    },
    {
     "name": "stdout",
     "output_type": "stream",
     "text": [
      "tensor(1.7685) test no learn tensor(2.2575)\n"
     ]
    },
    {
     "data": {
      "image/png": "[encoded data removed]",
      "text/plain": [
       "<Figure size 432x288 with 1 Axes>"
      ]
     },
     "metadata": {
      "needs_background": "light"
     },
     "output_type": "display_data"
    },
    {
     "name": "stdout",
     "output_type": "stream",
     "text": [
      "1.2301771640777588\n"
     ]
    }
   ],
   "source": [
    "C = torch.ones((d,d),requires_grad = True)\n",
    "eta = .1\n",
    "optimizer = optim.SGD([C], lr = 1, momentum = 0.9)\n",
    "\n",
    "epochs = 10000\n",
    "l = []\n",
    "for i in range(epochs):\n",
    "    optimizer.zero_grad()\n",
    "    \n",
    "    temp = eta*A.transpose(0,1).matmul(B).float()\n",
    "    temp1 = 2*torch.eye(d) - eta*A.transpose(0,1).matmul(A).float() - eta*C\n",
    "    loss = torch.norm(temp1.matmul(temp) - X.transpose(0,1).float())\n",
    "    loss.backward()\n",
    "    optimizer.step()\n",
    "    l.append(loss.item())\n",
    "def test(C,eta, algorithm ):\n",
    "    Xtest = torch.tensor(np.random.uniform(-1,1,size = (ntest,d)))\n",
    "    Btest = torch.tensor(np.matmul(A,Xtest.transpose(0,1)))\n",
    "\n",
    "    temp = eta*A.transpose(0,1).matmul(Btest).float()\n",
    "    if algorithm == 'no learn':\n",
    "        temp1 = 2*torch.eye(d) - eta*A.transpose(0,1).matmul(A).float()\n",
    "    else:\n",
    "        temp1 = 2*torch.eye(d) - eta*A.transpose(0,1).matmul(A).float() - eta*C\n",
    "    return torch.norm(temp1.matmul(temp) - Xtest.transpose(0,1).float())/ntest\n",
    "\n",
    "\n",
    "\n",
    "print(test(C.detach(),eta, 'learn'), 'test no learn', test(C.detach(),eta,'no learn'))\n",
    "plt.plot(l)\n",
    "plt.show()\n",
    "print(l[-1])"
   ]
  },
  {
   "cell_type": "markdown",
   "metadata": {},
   "source": [
    "## MODEL BASED LEARNING 2 iterations"
   ]
  },
  {
   "cell_type": "code",
   "execution_count": 210,
   "metadata": {},
   "outputs": [
    {
     "name": "stdout",
     "output_type": "stream",
     "text": [
      "tensor(85.9057)\n"
     ]
    },
    {
     "name": "stderr",
     "output_type": "stream",
     "text": [
      "C:\\Users\\siddp\\Anaconda3\\lib\\site-packages\\ipykernel_launcher.py:21: UserWarning: To copy construct from a tensor, it is recommended to use sourceTensor.clone().detach() or sourceTensor.clone().detach().requires_grad_(True), rather than torch.tensor(sourceTensor).\n"
     ]
    },
    {
     "data": {
      "image/png": "[encoded data removed]",
      "text/plain": [
       "<Figure size 432x288 with 1 Axes>"
      ]
     },
     "metadata": {
      "needs_background": "light"
     },
     "output_type": "display_data"
    }
   ],
   "source": [
    "C = torch.ones((d,d),requires_grad = True)\n",
    "C1 = torch.ones((d,d),requires_grad = True)\n",
    "eta = .1\n",
    "optimizer = optim.SGD([C,C1], lr = 0.01, momentum = 0.9)\n",
    "\n",
    "epochs = 1000\n",
    "l = []\n",
    "for i in range(epochs):\n",
    "    optimizer.zero_grad()\n",
    "    \n",
    "    temp = eta*A.transpose(0,1).matmul(B).float()\n",
    "    temp1 = torch.eye(d) - eta*A.transpose(0,1).matmul(A).float() - eta*C\n",
    "    temp2 = torch.eye(d) - eta*A.transpose(0,1).matmul(A).float() - eta*C1\n",
    "    temp3 = (torch.eye(d) + temp1 + temp1.matmul(temp2)).matmul(temp)\n",
    "    loss = torch.norm(temp3 - X.transpose(0,1).float())\n",
    "    loss.backward()\n",
    "    optimizer.step()\n",
    "    l.append(loss.item())\n",
    "def test(C,C1,eta):\n",
    "    Xtest = torch.tensor(np.random.uniform(-1,1,size = (ntest,d)))\n",
    "    Btest = torch.tensor(np.matmul(A,Xtest.transpose(0,1)))\n",
    "\n",
    "    temp = eta*A.transpose(0,1).matmul(Btest).float()\n",
    "    temp1 = torch.eye(d) - eta*A.transpose(0,1).matmul(A).float() - eta*C\n",
    "    temp2 = torch.eye(d) - eta*A.transpose(0,1).matmul(A).float() - eta*C1\n",
    "    temp3 = (torch.eye(d) + temp1 + temp1.matmul(temp2)).matmul(temp)\n",
    "    loss = torch.norm(temp3 - Xtest.transpose(0,1).float())/ntest\n",
    "    return loss\n",
    "\n",
    "print(test(C.detach(),C1.detach(),eta))\n",
    "plt.plot(l)\n",
    "plt.show() "
   ]
  },
  {
   "cell_type": "markdown",
   "metadata": {},
   "source": [
    "## Theoritical bounds"
   ]
  },
  {
   "cell_type": "code",
   "execution_count": 459,
   "metadata": {},
   "outputs": [
    {
     "data": {
      "image/png": "[encoded data removed]",
      "text/plain": [
       "<Figure size 432x288 with 1 Axes>"
      ]
     },
     "metadata": {
      "needs_background": "light"
     },
     "output_type": "display_data"
    },
    {
     "data": {
      "text/plain": [
       "[<matplotlib.lines.Line2D at 0x22e74664cc0>]"
      ]
     },
     "execution_count": 459,
     "metadata": {},
     "output_type": "execute_result"
    },
    {
     "data": {
      "image/png": "[encoded data removed]",
      "text/plain": [
       "<Figure size 432x288 with 1 Axes>"
      ]
     },
     "metadata": {
      "needs_background": "light"
     },
     "output_type": "display_data"
    }
   ],
   "source": [
    "unroll = []\n",
    "modelfree = []\n",
    "onestepgd = []\n",
    "d = 100 # dimension of data points x\n",
    "m = 100 # size of measurements b\n",
    "#sigma = np.linspace(0.0001,1,d)\n",
    "Sigma = np.eye(d)#np.random.uniform(0,1,size = (d,d))#np.diag(sigma)\n",
    "A = np.random.uniform(-1/np.sqrt(d),1/np.sqrt(d),(m,d))\n",
    "eta = 0.1\n",
    "ata = np.matmul(A.T,A)\n",
    "for n in range(2,200):\n",
    "    X = np.random.uniform(-1/np.sqrt(d),1/np.sqrt(d),size = (n,d))#np.random.binomial(size=(n,d), n=1, p= 0.1)#np.random.uniform(-1/np.sqrt(d),1/np.sqrt(d),size = (n,d))##\n",
    "    cov = np.matmul(X.T,X)\n",
    "    \n",
    "    #estimateUL = np.matmul(np.matmul(cov,ata), \n",
    "    #                       np.linalg.pinv(np.matmul(np.matmul(A,cov),ata)))\n",
    "    \n",
    "    atacovata = np.matmul(np.matmul(ata,cov),ata)\n",
    "    covataInvatacovata = np.matmul(np.matmul(cov,ata),\n",
    "                                   np.linalg.pinv(atacovata,hermitian = True))\n",
    "    \n",
    "    atacovataInvatacovata = np.matmul(atacovata,\n",
    "                                   np.linalg.pinv(atacovata,hermitian = True))\n",
    "    #etaeyeataat = np.matmul(eta*(2*np.eye(d) - eta*ata), A.T) \n",
    "    covataInvatacovataat =  np.matmul(covataInvatacovata,A.T)\n",
    "    \n",
    "    etaeyeataatacovataInvatacovataat = np.matmul(np.matmul(\n",
    "                                    eta*(2*np.eye(d) - eta*ata), \n",
    "                                np.eye(d) - atacovataInvatacovata),A.T)\n",
    "    estimateUL =  covataInvatacovataat \n",
    "    + etaeyeataatacovataInvatacovataat\n",
    "    #print(sum(np.diag(atacovataInvatacovata)) )\n",
    "    #plt.figure(n)\n",
    "    #plt.imshow(atacovataInvatacovata)\n",
    "    #plt.show()\n",
    "    estimateML = np.matmul(np.matmul(cov,A.T),\n",
    "                           np.linalg.pinv(np.matmul(np.matmul(A,cov),A.T)))\n",
    "    \n",
    "    ULerror = np.matrix.trace(np.matmul(np.matmul(\n",
    "        np.matmul(estimateUL,A)-np.eye(d),Sigma),\n",
    "                                        np.matmul(estimateUL,A).T-np.eye(d)))\n",
    "    \n",
    "    MLerror = np.matrix.trace(np.matmul(np.matmul(\n",
    "        np.matmul(estimateML,A)-np.eye(d),\n",
    "        Sigma),np.matmul(estimateML,A).T-np.eye(d)))\n",
    "    unroll.append(ULerror)\n",
    "    modelfree.append(MLerror)\n",
    "estimateonestepgd = np.matmul(eta*(2*np.eye(d) - eta*ata), A.T)\n",
    "gdonesteperror = np.matrix.trace(np.matmul(np.matmul(\n",
    "        np.matmul(estimateonestepgd,A)-np.eye(d),Sigma),\n",
    "                    np.matmul(estimateonestepgd,A).T-np.eye(d)))    \n",
    "onestepgd = [gdonesteperror]*len(unroll)\n",
    "allstepgd = [ np.matrix.trace(np.matmul(\n",
    "    np.matmul(np.linalg.pinv(A),A)-np.eye(d),\n",
    "    np.matmul(np.linalg.pinv(A),A).T-np.eye(d))) ]*len(onestepgd)\n",
    "plt.plot(unroll,label = 'unrolled loops error')\n",
    "plt.plot(modelfree, label = 'model free error')\n",
    "plt.plot(onestepgd, label = 'one step gd error')\n",
    "plt.plot(allstepgd,label = 'all step gd error')\n",
    "plt.legend()\n",
    "plt.show()\n",
    "plt.plot(np.array(unroll)-np.array(modelfree))"
   ]
  },
  {
   "cell_type": "code",
   "execution_count": 453,
   "metadata": {},
   "outputs": [
    {
     "data": {
      "text/plain": [
       "array([[ 0.1262422 ,  0.02747245,  0.05992019, ...,  0.04218681,\n",
       "         0.02690706,  0.02947901],\n",
       "       [ 0.02747245,  0.23176529,  0.02039793, ..., -0.06151398,\n",
       "         0.04414359, -0.01012265],\n",
       "       [ 0.05992019,  0.02039793,  0.23840251, ..., -0.02360158,\n",
       "         0.07689473,  0.03131216],\n",
       "       ...,\n",
       "       [ 0.04218681, -0.06151398, -0.02360158, ...,  0.24910372,\n",
       "         0.07277811,  0.00619566],\n",
       "       [ 0.02690706,  0.04414359,  0.07689473, ...,  0.07277811,\n",
       "         0.20647794,  0.09521745],\n",
       "       [ 0.02947901, -0.01012265,  0.03131216, ...,  0.00619566,\n",
       "         0.09521745,  0.18019729]])"
      ]
     },
     "execution_count": 453,
     "metadata": {},
     "output_type": "execute_result"
    }
   ],
   "source": [
    "np.matmul(atacovata,np.linalg.pinv(atacovata,hermitian = True))"
   ]
  },
  {
   "cell_type": "code",
   "execution_count": 454,
   "metadata": {},
   "outputs": [
    {
     "data": {
      "text/plain": [
       "True"
      ]
     },
     "execution_count": 454,
     "metadata": {},
     "output_type": "execute_result"
    }
   ],
   "source": [
    "np.allclose(atacovata,atacovata.T)"
   ]
  },
  {
   "cell_type": "code",
   "execution_count": 455,
   "metadata": {},
   "outputs": [
    {
     "data": {
      "text/plain": [
       "array([[ 0.17534375,  0.12031348, -0.00345183, ..., -0.00193198,\n",
       "         0.04781863,  0.04927669],\n",
       "       [ 0.12031348,  0.46542051,  0.00410804, ..., -0.07741065,\n",
       "         0.09833962, -0.04323484],\n",
       "       [-0.00345183,  0.00410804,  0.44309538, ..., -0.05783202,\n",
       "         0.09697044, -0.01911333],\n",
       "       ...,\n",
       "       [-0.00193198, -0.07741065, -0.05783202, ...,  0.20138107,\n",
       "         0.04905351,  0.01782167],\n",
       "       [ 0.04781863,  0.09833962,  0.09697044, ...,  0.04905351,\n",
       "         0.34678384,  0.08607784],\n",
       "       [ 0.04927669, -0.04323484, -0.01911333, ...,  0.01782167,\n",
       "         0.08607784,  0.46332842]])"
      ]
     },
     "execution_count": 455,
     "metadata": {},
     "output_type": "execute_result"
    }
   ],
   "source": [
    "atacovata"
   ]
  },
  {
   "cell_type": "code",
   "execution_count": null,
   "metadata": {},
   "outputs": [],
   "source": []
  }
 ],
 "metadata": {
  "kernelspec": {
   "display_name": "Python 3",
   "language": "python",
   "name": "python3"
  },
  "language_info": {
   "codemirror_mode": {
    "name": "ipython",
    "version": 3
   },
   "file_extension": ".py",
   "mimetype": "text/x-python",
   "name": "python",
   "nbconvert_exporter": "python",
   "pygments_lexer": "ipython3",
   "version": "3.7.1"
  }
 },
 "nbformat": 4,
 "nbformat_minor": 2
}
