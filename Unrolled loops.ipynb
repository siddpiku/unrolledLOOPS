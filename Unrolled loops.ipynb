{
 "cells": [
  {
   "cell_type": "code",
   "execution_count": 195,
   "metadata": {},
   "outputs": [],
   "source": [
    "import numpy as np\n",
    "import matplotlib.pyplot as plt\n",
    "import torch\n",
    "import torch.optim as optim"
   ]
  },
  {
   "cell_type": "markdown",
   "metadata": {},
   "source": [
    "## SETUP 1 - MODEL FREE learning"
   ]
  },
  {
   "cell_type": "code",
   "execution_count": 218,
   "metadata": {},
   "outputs": [
    {
     "name": "stdout",
     "output_type": "stream",
     "text": [
      "empirical test error tensor(0.6720) theoritical test error =  0.6732503490800904\n"
     ]
    },
    {
     "name": "stderr",
     "output_type": "stream",
     "text": [
      "<ipython-input-218-1543796ce8bb>:37: UserWarning: To copy construct from a tensor, it is recommended to use sourceTensor.clone().detach() or sourceTensor.clone().detach().requires_grad_(True), rather than torch.tensor(sourceTensor).\n",
      "  Btest = torch.tensor(np.matmul(A,Xtest.transpose(0,1)))\n"
     ]
    },
    {
     "data": {
      "image/png": "[encoded data removed]",
      "text/plain": [
       "<Figure size 432x288 with 1 Axes>"
      ]
     },
     "metadata": {
      "needs_background": "light"
     },
     "output_type": "display_data"
    },
    {
     "name": "stdout",
     "output_type": "stream",
     "text": [
      "0.022929808124899864\n"
     ]
    }
   ],
   "source": [
    "d = 100 # dimension of data points x\n",
    "n = 80 # number of data points\n",
    "ntest = 10000\n",
    "m = 90 # size of measurements b\n",
    "noise = 0\n",
    "X = np.random.uniform(-1/np.sqrt(d),1/np.sqrt(d),size = (n,d))\n",
    "A = np.random.uniform(-1/np.sqrt(d),1/np.sqrt(d),(m,d))\n",
    "B = np.matmul(A,X.T) \n",
    "B += noise*np.random.uniform(-1,1,size = B.shape)\n",
    "\n",
    "Sigma = np.eye(d)/(3*d)\n",
    "\n",
    "X = torch.tensor(X)\n",
    "A = torch.tensor(A)\n",
    "B = torch.tensor(B)\n",
    "\n",
    "C = torch.zeros((d,m),requires_grad = True)\n",
    "\n",
    "#cov = np.matmul(X.transpose(0,1),X)\n",
    "estimateML = np.matmul(X.T, np.linalg.pinv(B))\n",
    "\n",
    "\n",
    "optimizer = optim.SGD([C], lr = 0.1, momentum = 0.99)\n",
    "\n",
    "epochs = 10000\n",
    "l = []\n",
    "lbase = []\n",
    "for i in range(epochs):\n",
    "    optimizer.zero_grad()\n",
    "    loss = torch.norm(C.matmul(B.float()).transpose(0,1) - X.float())\n",
    "    loss.backward()\n",
    "    optimizer.step()\n",
    "    l.append(loss.item())\n",
    "    lbase.append(torch.norm(C.detach() - estimateML.float()))\n",
    "def test(C):\n",
    "    Xtest = torch.tensor(np.random.uniform(-1/np.sqrt(d),1/np.sqrt(d),size = (ntest,d)))\n",
    "    Btest = torch.tensor(np.matmul(A,Xtest.transpose(0,1)))\n",
    "    return torch.norm(C.matmul(Btest.float()).transpose(0,1)-Xtest.float())**2/ntest\n",
    "\n",
    "testerror = np.matrix.trace(np.matmul(np.matmul(\n",
    "        np.matmul(estimateML,A)-np.eye(d),\n",
    "        Sigma),np.matmul(estimateML,A).T-np.eye(d)).numpy())#torch.norm(np.matmul(estimateML,A)-np.eye(d))**2/(3*d)\n",
    "print('empirical test error', test(C.detach()), 'theoritical test error = ', testerror)\n",
    "plt.plot(l,label = 'actual loss')\n",
    "\n",
    "plt.plot(lbase,label = 'error from base')\n",
    "plt.legend()\n",
    "plt.show()\n",
    "print(l[-1])"
   ]
  },
  {
   "cell_type": "markdown",
   "metadata": {},
   "source": [
    "## SETUP 2 - MODEL BASED LEARNING with step-size learning"
   ]
  },
  {
   "cell_type": "code",
   "execution_count": 239,
   "metadata": {},
   "outputs": [
    {
     "name": "stdout",
     "output_type": "stream",
     "text": [
      "tensor(0.0871)\n"
     ]
    },
    {
     "name": "stderr",
     "output_type": "stream",
     "text": [
      "<ipython-input-239-272fbe44d28e>:19: UserWarning: To copy construct from a tensor, it is recommended to use sourceTensor.clone().detach() or sourceTensor.clone().detach().requires_grad_(True), rather than torch.tensor(sourceTensor).\n",
      "  Btest = torch.tensor(np.matmul(A,Xtest.transpose(0,1)))\n"
     ]
    },
    {
     "data": {
      "image/png": "[encoded data removed]",
      "text/plain": [
       "<Figure size 432x288 with 1 Axes>"
      ]
     },
     "metadata": {
      "needs_background": "light"
     },
     "output_type": "display_data"
    }
   ],
   "source": [
    "C = torch.zeros((d,d),requires_grad = True)\n",
    "eta = torch.tensor(0.0,requires_grad = True)\n",
    "optimizer = optim.SGD([C,eta], lr = 0.01, momentum = 0.9)\n",
    "\n",
    "epochs = 1000\n",
    "l = []\n",
    "for i in range(epochs):\n",
    "    optimizer.zero_grad()\n",
    "    \n",
    "    #eta = 0.1\n",
    "    temp = eta*A.transpose(0,1).matmul(B).float()\n",
    "    temp1 = 2*torch.eye(d) - eta*A.transpose(0,1).matmul(A).float() - eta*C\n",
    "    loss = torch.norm(temp1.matmul(temp) - X.transpose(0,1).float())\n",
    "    loss.backward()\n",
    "    optimizer.step()\n",
    "    l.append(loss.item())\n",
    "def test(C,eta):\n",
    "    Xtest = torch.tensor(np.random.uniform(-1,1,size = (ntest,d)))\n",
    "    Btest = torch.tensor(np.matmul(A,Xtest.transpose(0,1)))\n",
    "    #eta = 0.1\n",
    "    temp = eta*A.transpose(0,1).matmul(Btest).float()\n",
    "    temp1 = 2*torch.eye(d) - eta*A.transpose(0,1).matmul(A).float() - eta*C\n",
    "    return torch.norm(temp1.matmul(temp) - Xtest.transpose(0,1).float())/ntest\n",
    "\n",
    "print(test(C.detach(),eta.detach()))\n",
    "plt.plot(l)\n",
    "plt.show()"
   ]
  },
  {
   "cell_type": "markdown",
   "metadata": {},
   "source": [
    "## MODEL BASED LEARNING NOT LEARNING STEP-SIZE"
   ]
  },
  {
   "cell_type": "code",
   "execution_count": 245,
   "metadata": {},
   "outputs": [
    {
     "name": "stdout",
     "output_type": "stream",
     "text": [
      "tensor(1.4664)\n",
      "test-set error tensor(1.4647) test one iter gd tensor(0.2970) test-error theoritical unroll tensor(1.4664, dtype=torch.float64)\n"
     ]
    },
    {
     "name": "stderr",
     "output_type": "stream",
     "text": [
      "<ipython-input-245-624ff090342d>:39: UserWarning: To copy construct from a tensor, it is recommended to use sourceTensor.clone().detach() or sourceTensor.clone().detach().requires_grad_(True), rather than torch.tensor(sourceTensor).\n",
      "  Btest = torch.tensor(np.matmul(A,Xtest.transpose(0,1)))\n"
     ]
    },
    {
     "data": {
      "image/png": "[encoded data removed]",
      "text/plain": [
       "<Figure size 432x288 with 1 Axes>"
      ]
     },
     "metadata": {
      "needs_background": "light"
     },
     "output_type": "display_data"
    },
    {
     "name": "stdout",
     "output_type": "stream",
     "text": [
      "3.9504300275439164e-08 tensor(8.3178e-05, dtype=torch.float64)\n"
     ]
    }
   ],
   "source": [
    "C = torch.zeros((d,d),requires_grad = True)\n",
    "eta = .1\n",
    "optimizer = optim.SGD([C], lr = 10000, momentum = .999)\n",
    "\n",
    "temp = torch.matmul(A.transpose(0,1),B)\n",
    "ata = torch.matmul(A.transpose(0,1),A)\n",
    "pred = torch.matmul(torch.matmul(eta*(2*torch.eye(d) - eta*ata),\n",
    "                         torch.eye(d) - torch.matmul(temp,torch.linalg.pinv(temp))),\n",
    "                    A.transpose(0,1)) + torch.matmul(torch.matmul(X.transpose(0,1),torch.linalg.pinv(temp)),\n",
    "                                                  A.transpose(0,1))\n",
    "Chat = torch.matmul(eta*(2*torch.eye(d) - eta*ata),\n",
    "                         torch.matmul(temp,torch.linalg.pinv(temp)))- torch.matmul(X.transpose(0,1),torch.linalg.pinv(temp))\n",
    "Chat /= eta**2\n",
    "\n",
    "\n",
    "temp = eta*A.transpose(0,1)\n",
    "temp1 = 2*torch.eye(d) - eta*A.transpose(0,1).matmul(A).float() - eta*Chat\n",
    "Sigma = torch.eye(d)/(3*d)\n",
    "print(torch.trace(torch.matmul(temp1.matmul(temp).matmul(A).transpose(0,1).float() - torch.eye(d),\n",
    "                               Sigma.float()).matmul(temp1.matmul(temp).matmul(A).float() - torch.eye(d))) )\n",
    "\n",
    "\n",
    "epochs = 20000\n",
    "l = []\n",
    "ltheoritical = []\n",
    "\n",
    "for i in range(epochs):\n",
    "    optimizer.zero_grad()\n",
    "    \n",
    "    temp = eta*A.transpose(0,1).matmul(B).float()\n",
    "    temp1 = 2*torch.eye(d) - eta*A.transpose(0,1).matmul(A).float() - eta*C\n",
    "    loss = torch.norm(temp1.matmul(temp) - X.transpose(0,1).float())**2\n",
    "    loss.backward()\n",
    "    optimizer.step()\n",
    "    l.append(loss.item())\n",
    "    ltheoritical.append( torch.norm(Chat-C.detach())**2/d**2 )\n",
    "def test(C,eta, algorithm ):\n",
    "    Xtest = torch.tensor(np.random.uniform(-1/np.sqrt(d),1/np.sqrt(d),size = (ntest,d)))\n",
    "    Btest = torch.tensor(np.matmul(A,Xtest.transpose(0,1)))\n",
    "    \n",
    "    temp = eta*A.transpose(0,1).matmul(Btest).float()\n",
    "    if algorithm == 'no learn':\n",
    "        temp1 = 2*torch.eye(d) - eta*A.transpose(0,1).matmul(A).float()\n",
    "    else:\n",
    "        temp1 = 2*torch.eye(d) - eta*A.transpose(0,1).matmul(A).float() - eta*C\n",
    "    return torch.norm(temp1.matmul(temp) - Xtest.transpose(0,1).float())**2/ntest\n",
    "\n",
    "testerror = torch.norm( torch.matmul(pred,A)-torch.eye(d) )**2/(3*d)\n",
    "print('test-set error', test(C.detach(),eta, 'learn'), 'test one iter gd', test(C.detach(),eta,'no learn'), \n",
    "      'test-error theoritical unroll', testerror)\n",
    "plt.plot(l)\n",
    "plt.plot(ltheoritical)\n",
    "plt.show()\n",
    "print(l[-1],ltheoritical[-1])"
   ]
  },
  {
   "cell_type": "markdown",
   "metadata": {},
   "source": [
    "## MODEL BASED LEARNING 2 iterations"
   ]
  },
  {
   "cell_type": "code",
   "execution_count": 237,
   "metadata": {},
   "outputs": [
    {
     "name": "stdout",
     "output_type": "stream",
     "text": [
      "tensor(0.1161)\n"
     ]
    },
    {
     "name": "stderr",
     "output_type": "stream",
     "text": [
      "<ipython-input-237-403e9c6de2b5>:21: UserWarning: To copy construct from a tensor, it is recommended to use sourceTensor.clone().detach() or sourceTensor.clone().detach().requires_grad_(True), rather than torch.tensor(sourceTensor).\n",
      "  Btest = torch.tensor(np.matmul(A,Xtest.transpose(0,1)))\n"
     ]
    },
    {
     "data": {
      "image/png": "[encoded data removed]",
      "text/plain": [
       "<Figure size 432x288 with 1 Axes>"
      ]
     },
     "metadata": {
      "needs_background": "light"
     },
     "output_type": "display_data"
    }
   ],
   "source": [
    "C = torch.zeros((d,d),requires_grad = True)\n",
    "C1 = torch.zeros((d,d),requires_grad = True)\n",
    "eta = 1\n",
    "optimizer = optim.SGD([C,C1], lr =.1, momentum = 0.99)\n",
    "\n",
    "epochs = 10000\n",
    "l = []\n",
    "for i in range(epochs):\n",
    "    optimizer.zero_grad()\n",
    "    \n",
    "    temp = eta*A.transpose(0,1).matmul(B).float()\n",
    "    temp1 = torch.eye(d) - eta*A.transpose(0,1).matmul(A).float() - eta*C\n",
    "    temp2 = torch.eye(d) - eta*A.transpose(0,1).matmul(A).float() - eta*C1\n",
    "    temp3 = (torch.eye(d) + temp1 + temp1.matmul(temp2)).matmul(temp)\n",
    "    loss = torch.norm(temp3 - X.transpose(0,1).float())\n",
    "    loss.backward()\n",
    "    optimizer.step()\n",
    "    l.append(loss.item())\n",
    "def test(C,C1,eta):\n",
    "    Xtest = torch.tensor(np.random.uniform(-1,1,size = (ntest,d)))\n",
    "    Btest = torch.tensor(np.matmul(A,Xtest.transpose(0,1)))\n",
    "\n",
    "    temp = eta*A.transpose(0,1).matmul(Btest).float()\n",
    "    temp1 = torch.eye(d) - eta*A.transpose(0,1).matmul(A).float() - eta*C\n",
    "    temp2 = torch.eye(d) - eta*A.transpose(0,1).matmul(A).float() - eta*C1\n",
    "    temp3 = (torch.eye(d) + temp1 + temp1.matmul(temp2)).matmul(temp)\n",
    "    loss = torch.norm(temp3 - Xtest.transpose(0,1).float())/ntest\n",
    "    return loss\n",
    "\n",
    "print(test(C.detach(),C1.detach(),eta))\n",
    "plt.plot(l)\n",
    "plt.show() "
   ]
  },
  {
   "cell_type": "markdown",
   "metadata": {},
   "source": [
    "## Theoritical bounds"
   ]
  },
  {
   "cell_type": "code",
   "execution_count": 206,
   "metadata": {},
   "outputs": [
    {
     "data": {
      "image/png": "[encoded data removed]",
      "text/plain": [
       "<Figure size 432x288 with 1 Axes>"
      ]
     },
     "metadata": {
      "needs_background": "light"
     },
     "output_type": "display_data"
    },
    {
     "data": {
      "text/plain": [
       "[<matplotlib.lines.Line2D at 0x7fd118da8760>]"
      ]
     },
     "execution_count": 206,
     "metadata": {},
     "output_type": "execute_result"
    },
    {
     "data": {
      "image/png": "[encoded data removed]",
      "text/plain": [
       "<Figure size 432x288 with 1 Axes>"
      ]
     },
     "metadata": {
      "needs_background": "light"
     },
     "output_type": "display_data"
    }
   ],
   "source": [
    "unroll = []\n",
    "modelfree = []\n",
    "onestepgd = []\n",
    "d = 100 # dimension of data points x\n",
    "m = 90 # size of measurements b\n",
    "#sigma = np.linspace(0.0001,1,d)\n",
    "Sigma = np.eye(d)/(3*d)#np.random.uniform(0,1,size = (d,d))#np.diag(sigma)\n",
    "A = np.random.uniform(-1/np.sqrt(d),1/np.sqrt(d),(m,d))\n",
    "eta = 1\n",
    "ata = np.matmul(A.T,A)\n",
    "for n in range(2,400):\n",
    "    X = np.random.uniform(-1/np.sqrt(d),1/np.sqrt(d),size = (n,d))#np.random.binomial(size=(n,d), n=1, p= 0.1)#np.random.uniform(-1/np.sqrt(d),1/np.sqrt(d),size = (n,d))##\n",
    "    cov = np.matmul(X.T,X)\n",
    "    B = np.matmul(A,X.T)\n",
    "    #estimateUL = np.matmul(np.matmul(cov,ata), \n",
    "    #                       np.linalg.pinv(np.matmul(np.matmul(A,cov),ata)))\n",
    "    \n",
    "    ##atacovata = np.matmul(np.matmul(ata,cov),ata)\n",
    "    ##covataInvatacovata = np.matmul(np.matmul(cov,ata),\n",
    "    ##                               np.linalg.pinv(atacovata,hermitian = True))\n",
    "    \n",
    "    ##atacovataInvatacovata = np.matmul(atacovata,\n",
    "    ##                               np.linalg.pinv(atacovata,hermitian = True))\n",
    "    ###etaeyeataat = np.matmul(eta*(2*np.eye(d) - eta*ata), A.T) \n",
    "    ##covataInvatacovataat =  np.matmul(covataInvatacovata,A.T)\n",
    "    \n",
    "    ##etaeyeataatacovataInvatacovataat = np.matmul(np.matmul(\n",
    "    ##                                eta*(2*np.eye(d) - eta*ata), \n",
    "    ##                            np.eye(d) - atacovataInvatacovata),A.T)\n",
    "    ##estimateUL =  covataInvatacovataat \n",
    "    ##+ etaeyeataatacovataInvatacovataat\n",
    "    \n",
    "    temp = np.matmul(A.T,B)\n",
    "    ata = np.matmul(A.T,A)\n",
    "    estimateUL = np.matmul(np.matmul(eta*(2*np.eye(d) - eta*ata),\n",
    "                         np.eye(d) - np.matmul(temp,np.linalg.pinv(temp))),\n",
    "                    A.T) + np.matmul(np.matmul(X.T,np.linalg.pinv(temp)), A.T)\n",
    "\n",
    "\n",
    "    \n",
    "    \n",
    "    \n",
    "    #print(sum(np.diag(atacovataInvatacovata)) )\n",
    "    #plt.figure(n)\n",
    "    #plt.imshow(atacovataInvatacovata)\n",
    "    #plt.show()\n",
    "    estimateML = np.matmul(X.T, np.linalg.pinv(B))\n",
    "    #np.matmul(np.matmul(cov,A.T), np.linalg.pinv(np.matmul(np.matmul(A,cov),A.T)))\n",
    "    \n",
    "    ULerror = np.matrix.trace(np.matmul(np.matmul(\n",
    "        np.matmul(estimateUL,A)-np.eye(d),Sigma),\n",
    "                                        np.matmul(estimateUL,A).T-np.eye(d)))\n",
    "    \n",
    "    MLerror = np.matrix.trace(np.matmul(np.matmul(\n",
    "        np.matmul(estimateML,A)-np.eye(d),\n",
    "        Sigma),np.matmul(estimateML,A).T-np.eye(d)))\n",
    "    \n",
    "    #ULerror = np.linalg.norm( np.matmul(pred,A)-np.eye(d) )**2/(3*d)\n",
    "    unroll.append(ULerror)\n",
    "    modelfree.append(MLerror)\n",
    "estimateonestepgd = np.matmul(eta*(2*np.eye(d) - eta*ata), A.T)\n",
    "gdonesteperror = np.matrix.trace(np.matmul(np.matmul(\n",
    "        np.matmul(estimateonestepgd,A)-np.eye(d),Sigma),\n",
    "                    np.matmul(estimateonestepgd,A).T-np.eye(d)))    \n",
    "onestepgd = [gdonesteperror]*len(unroll)\n",
    "allstepgd = [ np.matrix.trace(np.matmul(\n",
    "    np.matmul(np.linalg.pinv(A),A)-np.eye(d),\n",
    "    np.matmul(np.linalg.pinv(A),A).T-np.eye(d))) ]*len(onestepgd)\n",
    "plt.plot(unroll,label = 'unrolled loops error')\n",
    "plt.plot(modelfree, label = 'model free error')\n",
    "plt.plot(onestepgd, label = 'one step gd error')\n",
    "#plt.plot(allstepgd,label = 'all step gd error')\n",
    "plt.legend()\n",
    "plt.ylim([0,2])\n",
    "plt.show()\n",
    "plt.plot(np.array(unroll)-np.array(modelfree))"
   ]
  },
  {
   "cell_type": "markdown",
   "metadata": {},
   "source": [
    "## Input distribution is sparse"
   ]
  },
  {
   "cell_type": "code",
   "execution_count": 194,
   "metadata": {},
   "outputs": [
    {
     "data": {
      "image/png": "[encoded data removed]",
      "text/plain": [
       "<Figure size 432x288 with 1 Axes>"
      ]
     },
     "metadata": {
      "needs_background": "light"
     },
     "output_type": "display_data"
    },
    {
     "data": {
      "text/plain": [
       "[<matplotlib.lines.Line2D at 0x7fd0e89b9ac0>]"
      ]
     },
     "execution_count": 194,
     "metadata": {},
     "output_type": "execute_result"
    },
    {
     "data": {
      "image/png": "[encoded data removed]",
      "text/plain": [
       "<Figure size 432x288 with 1 Axes>"
      ]
     },
     "metadata": {
      "needs_background": "light"
     },
     "output_type": "display_data"
    }
   ],
   "source": [
    "unroll = []\n",
    "modelfree = []\n",
    "onestepgd = []\n",
    "d = 100 # dimension of data points x\n",
    "m = 100 # size of measurements b\n",
    "#sigma = np.linspace(0.0001,1,d)\n",
    "Sigma = np.eye(d)/(3*d)#np.random.uniform(0,1,size = (d,d))#np.diag(sigma)\n",
    "A = np.random.uniform(-1/np.sqrt(d),1/np.sqrt(d),(m,d))\n",
    "eta = .1\n",
    "ata = np.matmul(A.T,A)\n",
    "for n in range(2,150):\n",
    "    #X = np.random.uniform(-1/np.sqrt(d),1/np.sqrt(d),size = (n,d))#np.random.binomial(size=(n,d), n=1, p= 0.1)#np.random.uniform(-1/np.sqrt(d),1/np.sqrt(d),size = (n,d))##\n",
    "    X = np.random.permutation(np.eye(n,d))/np.sqrt(3*d)\n",
    "    cov = np.matmul(X.T,X)\n",
    "    B = np.matmul(A,X.T)\n",
    "    #estimateUL = np.matmul(np.matmul(cov,ata), \n",
    "    #                       np.linalg.pinv(np.matmul(np.matmul(A,cov),ata)))\n",
    "    \n",
    "    ##atacovata = np.matmul(np.matmul(ata,cov),ata)\n",
    "    ##covataInvatacovata = np.matmul(np.matmul(cov,ata),\n",
    "    ##                               np.linalg.pinv(atacovata,hermitian = True))\n",
    "    \n",
    "    ##atacovataInvatacovata = np.matmul(atacovata,\n",
    "    ##                               np.linalg.pinv(atacovata,hermitian = True))\n",
    "    ###etaeyeataat = np.matmul(eta*(2*np.eye(d) - eta*ata), A.T) \n",
    "    ##covataInvatacovataat =  np.matmul(covataInvatacovata,A.T)\n",
    "    \n",
    "    ##etaeyeataatacovataInvatacovataat = np.matmul(np.matmul(\n",
    "    ##                                eta*(2*np.eye(d) - eta*ata), \n",
    "    ##                            np.eye(d) - atacovataInvatacovata),A.T)\n",
    "    ##estimateUL =  covataInvatacovataat \n",
    "    ##+ etaeyeataatacovataInvatacovataat\n",
    "    \n",
    "    temp = np.matmul(A.T,B)\n",
    "    ata = np.matmul(A.T,A)\n",
    "    estimateUL = np.matmul(np.matmul(eta*(2*np.eye(d) - eta*ata),\n",
    "                         np.eye(d) - np.matmul(temp,np.linalg.pinv(temp))),\n",
    "                    A.T)\n",
    "    estimateUL += np.matmul(np.matmul(X.T,np.linalg.pinv(temp)), A.T)\n",
    "    \n",
    "    #estimateUL = np.matmul(np.matmul(eta*(2*np.eye(d) - eta*ata),\n",
    "    #                     A.T), np.eye(m) - np.matmul(B,np.linalg.pinv(B))) \n",
    "    #estimateUL += np.matmul(X.T, np.linalg.pinv(B))\n",
    "    \n",
    "    #print(sum(np.diag(atacovataInvatacovata)) )\n",
    "    #plt.figure(n)\n",
    "    #plt.imshow(atacovataInvatacovata)\n",
    "    #plt.show()\n",
    "    estimateML = np.matmul(X.T, np.linalg.pinv(B))\n",
    "    #np.matmul(np.matmul(cov,A.T), np.linalg.pinv(np.matmul(np.matmul(A,cov),A.T)))\n",
    "    \n",
    "    ULerror = np.matrix.trace(np.matmul(np.matmul(\n",
    "        np.matmul(estimateUL,A)-np.eye(d),Sigma),\n",
    "                                        np.matmul(estimateUL,A).T-np.eye(d)))\n",
    "    \n",
    "    MLerror = np.matrix.trace(np.matmul(np.matmul(\n",
    "        np.matmul(estimateML,A)-np.eye(d),\n",
    "        Sigma),np.matmul(estimateML,A).T-np.eye(d)))\n",
    "    \n",
    "    #ULerror = np.linalg.norm( np.matmul(pred,A)-np.eye(d) )**2/(3*d)\n",
    "    unroll.append(ULerror)\n",
    "    modelfree.append(MLerror)\n",
    "estimateonestepgd = np.matmul(eta*(2*np.eye(d) - eta*ata), A.T)\n",
    "gdonesteperror = np.matrix.trace(np.matmul(np.matmul(\n",
    "        np.matmul(estimateonestepgd,A)-np.eye(d),Sigma),\n",
    "                    np.matmul(estimateonestepgd,A).T-np.eye(d)))    \n",
    "onestepgd = [gdonesteperror]*len(unroll)\n",
    "allstepgd = [ np.matrix.trace(np.matmul(\n",
    "    np.matmul(np.linalg.pinv(A),A)-np.eye(d),\n",
    "    np.matmul(np.linalg.pinv(A),A).T-np.eye(d))) ]*len(onestepgd)\n",
    "plt.plot(unroll,label = 'unrolled loops error')\n",
    "plt.plot(modelfree, label = 'model free error')\n",
    "plt.plot(onestepgd, label = 'one step gd error')\n",
    "plt.plot(allstepgd,label = 'all step gd error')\n",
    "plt.legend()\n",
    "plt.show()\n",
    "plt.ylim([0,10])\n",
    "plt.plot(np.array(unroll)-np.array(modelfree))"
   ]
  },
  {
   "cell_type": "code",
   "execution_count": null,
   "metadata": {},
   "outputs": [],
   "source": []
  }
 ],
 "metadata": {
  "kernelspec": {
   "display_name": "Python 3",
   "language": "python",
   "name": "python3"
  },
  "language_info": {
   "codemirror_mode": {
    "name": "ipython",
    "version": 3
   },
   "file_extension": ".py",
   "mimetype": "text/x-python",
   "name": "python",
   "nbconvert_exporter": "python",
   "pygments_lexer": "ipython3",
   "version": "3.8.8"
  }
 },
 "nbformat": 4,
 "nbformat_minor": 2
}
